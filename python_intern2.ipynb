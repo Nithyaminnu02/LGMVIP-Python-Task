{
  "nbformat": 4,
  "nbformat_minor": 0,
  "metadata": {
    "colab": {
      "provenance": []
    },
    "kernelspec": {
      "name": "python3",
      "display_name": "Python 3"
    },
    "language_info": {
      "name": "python"
    }
  },
  "cells": [
    {
      "cell_type": "markdown",
      "source": [
        "**Python Task-2 (Chatbot)**"
      ],
      "metadata": {
        "id": "NkTAisYHBcjm"
      }
    },
    {
      "cell_type": "code",
      "source": [
        "pip install nltk\n"
      ],
      "metadata": {
        "colab": {
          "base_uri": "https://localhost:8080/"
        },
        "id": "yaI7d6YBS5Dh",
        "outputId": "057758c4-8662-4c02-d30c-616c0d4b68b1"
      },
      "execution_count": 1,
      "outputs": [
        {
          "output_type": "stream",
          "name": "stdout",
          "text": [
            "Requirement already satisfied: nltk in /usr/local/lib/python3.10/dist-packages (3.8.1)\n",
            "Requirement already satisfied: click in /usr/local/lib/python3.10/dist-packages (from nltk) (8.1.7)\n",
            "Requirement already satisfied: joblib in /usr/local/lib/python3.10/dist-packages (from nltk) (1.4.2)\n",
            "Requirement already satisfied: regex>=2021.8.3 in /usr/local/lib/python3.10/dist-packages (from nltk) (2024.5.15)\n",
            "Requirement already satisfied: tqdm in /usr/local/lib/python3.10/dist-packages (from nltk) (4.66.4)\n"
          ]
        }
      ]
    },
    {
      "cell_type": "code",
      "source": [
        "import nltk\n",
        "from nltk.chat.util import Chat, reflections\n",
        "\n",
        "# Define pairs of patterns and responses\n",
        "pairs = [\n",
        "    ['hi|hello|hey', ['Hello!', 'Hi there!', 'Hey!']],\n",
        "    ['how are you', [\"I'm doing well, thank you!\", \"I'm fine, how about you?\"]],\n",
        "    ['(.*) your name?', [\"My name is Chatbot.\", \"You can call me Chatbot.\"]],\n",
        "    ['(.*) (age|old) are you', [\"I am just a computer program, so I don't have an age.\"]],\n",
        "    ['what can you do', [\"I can chat with you and provide some basic information.\"]],\n",
        "    ['bye|goodbye', ['Goodbye!', 'Bye!', 'Take care!']],\n",
        "]\n",
        "\n",
        "# Create a chatbot instance\n",
        "chatbot = Chat(pairs, reflections)\n",
        "\n",
        "# Define a function to chat with the user\n",
        "def chat():\n",
        "    print(\"Welcome! Type 'quit' to exit.\")\n",
        "    while True:\n",
        "        user_input = input(\"You: \")\n",
        "        if user_input.lower() == 'quit':\n",
        "            print(\"Goodbye!\")\n",
        "            break\n",
        "        response = chatbot.respond(user_input)\n",
        "        print(\"Chatbot:\", response)\n",
        "\n",
        "# Call the chat function to start chatting\n",
        "chat()\n"
      ],
      "metadata": {
        "colab": {
          "base_uri": "https://localhost:8080/"
        },
        "id": "jvWT77jOS6m7",
        "outputId": "c7242a2b-fa09-4cf5-8840-821b0040455f"
      },
      "execution_count": 2,
      "outputs": [
        {
          "output_type": "stream",
          "name": "stdout",
          "text": [
            "Welcome! Type 'quit' to exit.\n",
            "You: hi\n",
            "Chatbot: Hello!\n",
            "You: how are you\n",
            "Chatbot: I'm fine, how about you?\n",
            "You: quit\n",
            "Goodbye!\n"
          ]
        }
      ]
    }
  ]
}