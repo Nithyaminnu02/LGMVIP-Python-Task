{
  "nbformat": 4,
  "nbformat_minor": 0,
  "metadata": {
    "colab": {
      "provenance": []
    },
    "kernelspec": {
      "name": "python3",
      "display_name": "Python 3"
    },
    "language_info": {
      "name": "python"
    }
  },
  "cells": [
    {
      "cell_type": "markdown",
      "source": [
        "**Python Task-1 (rock,scissors,paper)**"
      ],
      "metadata": {
        "id": "W6Yd6w08CEaB"
      }
    },
    {
      "cell_type": "code",
      "execution_count": 3,
      "metadata": {
        "colab": {
          "base_uri": "https://localhost:8080/"
        },
        "id": "MbAeqA4NOz4E",
        "outputId": "0667da0f-5e23-44c7-af9f-9a01b878a6bb"
      },
      "outputs": [
        {
          "name": "stdout",
          "output_type": "stream",
          "text": [
            "Let's play Rock, Paper, Scissors!\n",
            "Choose rock, paper, or scissors: rock\n",
            "You chose rock. Computer chose rock.\n",
            "It's a tie competition!\n",
            "Do you want to play again? (yes/no): yes\n",
            "Choose rock, paper, or scissors: paper\n",
            "You chose paper. Computer chose rock.\n",
            "You win!\n",
            "Do you want to play again? (yes/no): no\n"
          ]
        }
      ],
      "source": [
        "from os import system\n",
        "import random\n",
        "\n",
        "def get_user_choice():\n",
        "    while True:\n",
        "        user_choice = input(\"Choose rock, paper, or scissors: \").lower()\n",
        "        if user_choice in ['rock', 'paper', 'scissors']:\n",
        "            return user_choice\n",
        "        else:\n",
        "            print(\"Invalid choice. Please choose rock, paper, or scissors.\")\n",
        "\n",
        "def get_system_choice():\n",
        "    return random.choice(['rock', 'paper', 'scissors'])\n",
        "\n",
        "def determine_winner(user_choice, system_choice):\n",
        "    if user_choice == system_choice:\n",
        "        return \"It's a tie competition!\"\n",
        "    elif (user_choice == 'rock' and system_choice == 'scissors') or \\\n",
        "         (user_choice == 'paper' and system_choice == 'rock') or \\\n",
        "         (user_choice == 'scissors' and system_choice == 'paper'):\n",
        "        return \"You win!\"\n",
        "    else:\n",
        "        return \"Computer wins!\"\n",
        "\n",
        "def play_game():\n",
        "    print(\"Let's play Rock, Paper, Scissors!\")\n",
        "    while True:\n",
        "        user_choice = get_user_choice()\n",
        "        computer_choice = get_system_choice()\n",
        "        print(f\"You chose {user_choice}. Computer chose {computer_choice}.\")\n",
        "        print(determine_winner(user_choice, computer_choice))\n",
        "        play_again = input(\"Do you want to play again? (yes/no): \").lower()\n",
        "        if play_again != 'yes':\n",
        "            break\n",
        "\n",
        "play_game()\n"
      ]
    },
    {
      "cell_type": "code",
      "source": [],
      "metadata": {
        "id": "5CJ8WNcZSLKj"
      },
      "execution_count": null,
      "outputs": []
    },
    {
      "cell_type": "code",
      "source": [],
      "metadata": {
        "id": "WEMebyIcSLHa"
      },
      "execution_count": null,
      "outputs": []
    },
    {
      "cell_type": "code",
      "source": [],
      "metadata": {
        "id": "GJQeBJMWSLE3"
      },
      "execution_count": null,
      "outputs": []
    }
  ]
}